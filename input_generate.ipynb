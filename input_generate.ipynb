{
 "cells": [
  {
   "cell_type": "code",
   "execution_count": null,
   "metadata": {},
   "outputs": [],
   "source": [
    "import numpy as np\n",
    "\n",
    "matrixSize = 4000 # change dimension of input matrix \n",
    "\n",
    "# Generate random integers within a specified range\n",
    "# Change the 'low' and 'high' values to set desired integer range\n",
    "low = 1\n",
    "high = 10\n",
    "A = np.random.randint(low, high + 1, size=(matrixSize, matrixSize))\n",
    "print(\"A\")\n",
    "print(A)\n",
    "\n",
    "B = np.dot(A, A.transpose())\n",
    "print(\"B\")\n",
    "print(B)\n",
    "\n",
    "C = B + B.T  # Ensure it's symmetric, the potential positive definition matrix\n",
    "print(\"C\")\n",
    "print(C)\n",
    "\n",
    "try:\n",
    "    D = np.linalg.cholesky(C)\n",
    "    print(\"Matrix C is positive definite.\")\n",
    "    print(\"Matrix D: \")\n",
    "    print(D)\n",
    "    \n",
    "    # Write the Cholesky decomposition result to a text file\n",
    "    with open(\"cholesky_result3000.txt\", \"w\") as file:\n",
    "        for row in C:\n",
    "            for value in row:\n",
    "                file.write(f\"{value}\\n\")\n",
    "except np.linalg.LinAlgError:\n",
    "    print(\"Matrix C is not positive definite.\")"
   ]
  }
 ],
 "metadata": {
  "language_info": {
   "name": "python"
  },
  "orig_nbformat": 4
 },
 "nbformat": 4,
 "nbformat_minor": 2
}
